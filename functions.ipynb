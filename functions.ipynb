{
 "cells": [
  {
   "cell_type": "code",
   "execution_count": null,
   "id": "ae19e1af",
   "metadata": {},
   "outputs": [
    {
     "name": "stdout",
     "output_type": "stream",
     "text": [
      "9 * 1 = 9\n",
      "9 * 2 = 18\n",
      "9 * 3 = 27\n",
      "9 * 4 = 36\n",
      "9 * 5 = 45\n",
      "9 * 6 = 54\n",
      "9 * 7 = 63\n",
      "9 * 8 = 72\n",
      "9 * 9 = 81\n",
      "9 * 10 = 90\n"
     ]
    }
   ],
   "source": [
    "def printTable(n):\n",
    "    for i in range(1, 11):\n",
    "        print(f\"{n} * {i} = {n * i}\")\n",
    "# This function prints the multiplication table for a given number n from 1 to 10.\n",
    "\n",
    "# Example:\n",
    "printTable(9)"
   ]
  },
  {
   "cell_type": "code",
   "execution_count": 2,
   "id": "06614c2d",
   "metadata": {},
   "outputs": [
    {
     "name": "stdout",
     "output_type": "stream",
     "text": [
      "3 and 5\n",
      "5 and 7\n",
      "11 and 13\n",
      "17 and 19\n",
      "29 and 31\n",
      "41 and 43\n",
      "59 and 61\n",
      "71 and 73\n",
      "101 and 103\n",
      "107 and 109\n",
      "137 and 139\n",
      "149 and 151\n",
      "179 and 181\n",
      "191 and 193\n",
      "197 and 199\n",
      "227 and 229\n",
      "239 and 241\n",
      "269 and 271\n",
      "281 and 283\n",
      "311 and 313\n",
      "347 and 349\n",
      "419 and 421\n",
      "431 and 433\n",
      "461 and 463\n",
      "521 and 523\n",
      "569 and 571\n",
      "599 and 601\n",
      "617 and 619\n",
      "641 and 643\n",
      "659 and 661\n",
      "809 and 811\n",
      "821 and 823\n",
      "827 and 829\n",
      "857 and 859\n",
      "881 and 883\n"
     ]
    }
   ],
   "source": [
    "# This function finds and prints all twin prime pairs up to a given limit.\n",
    "def isPrime(n):\n",
    "    if n < 2:\n",
    "        return False\n",
    "    for i in range(2, int(n**0.5)+1):\n",
    "        if n % i == 0:\n",
    "            return False\n",
    "    return True\n",
    "\n",
    "def twinPrimes(limit):\n",
    "    for i in range(3, limit):\n",
    "        if isPrime(i) and isPrime(i + 2):\n",
    "            print(f\"{i} and {i+2}\")\n",
    "\n",
    "# Example:\n",
    "twinPrimes(1000)\n"
   ]
  },
  {
   "cell_type": "code",
   "execution_count": 3,
   "id": "6ec1f674",
   "metadata": {},
   "outputs": [
    {
     "name": "stdout",
     "output_type": "stream",
     "text": [
      "[2, 2, 2, 7]\n"
     ]
    }
   ],
   "source": [
    "# This function finds and returns the prime factors of a given number n.\n",
    "def primeFactors(n):\n",
    "    factors = []\n",
    "    i = 2\n",
    "    while i <= n:\n",
    "        if n % i == 0:\n",
    "            factors.append(i)\n",
    "            n = n // i\n",
    "        else:\n",
    "            i += 1\n",
    "    return factors\n",
    "\n",
    "# Example:\n",
    "print(primeFactors(56))  # Output: [2, 2, 2, 7]"
   ]
  },
  {
   "cell_type": "code",
   "execution_count": null,
   "id": "978492dd",
   "metadata": {},
   "outputs": [
    {
     "name": "stdout",
     "output_type": "stream",
     "text": [
      "1011\n"
     ]
    }
   ],
   "source": [
    "# This function converts a decimal number to its binary representation.\n",
    "def decToBin(n):\n",
    "    return bin(n)[2:]\n",
    "\n",
    "# Example:\n",
    "print(decToBin(11))  # Output: 1011"
   ]
  },
  {
   "cell_type": "code",
   "execution_count": 5,
   "id": "d1fb9eab",
   "metadata": {},
   "outputs": [
    {
     "name": "stdout",
     "output_type": "stream",
     "text": [
      "6\n",
      "28\n"
     ]
    }
   ],
   "source": [
    "# This function checks if a number is a perfect number.\n",
    "# A perfect number is a positive integer that is equal to the sum of its proper divisors (excluding itself).\n",
    "\n",
    "def isPerfect(n):\n",
    "    if n <= 0:\n",
    "        return False\n",
    "    divisors_sum = 0\n",
    "    for i in range(1, n):\n",
    "        if n % i == 0:\n",
    "            divisors_sum += i\n",
    "    return divisors_sum == n\n",
    "\n",
    "def perfectNums(start, end):\n",
    "    for i in range(start, end+1):\n",
    "        if isPerfect(i):\n",
    "            print(i)\n",
    "\n",
    "# Example:\n",
    "perfectNums(0, 100)  # Output: 6, 28"
   ]
  }
 ],
 "metadata": {
  "kernelspec": {
   "display_name": ".env",
   "language": "python",
   "name": "python3"
  },
  "language_info": {
   "codemirror_mode": {
    "name": "ipython",
    "version": 3
   },
   "file_extension": ".py",
   "mimetype": "text/x-python",
   "name": "python",
   "nbconvert_exporter": "python",
   "pygments_lexer": "ipython3",
   "version": "3.12.9"
  }
 },
 "nbformat": 4,
 "nbformat_minor": 5
}

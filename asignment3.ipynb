{
 "cells": [
  {
   "cell_type": "code",
   "execution_count": null,
   "id": "838ba885",
   "metadata": {},
   "outputs": [
    {
     "name": "stdout",
     "output_type": "stream",
     "text": [
      "Number of files before deletion: 10\n",
      "Number of files after deletion: 5\n"
     ]
    },
    {
     "data": {
      "text/plain": [
       "5"
      ]
     },
     "execution_count": 5,
     "metadata": {},
     "output_type": "execute_result"
    }
   ],
   "source": [
    "import os\n",
    "import random\n",
    "\n",
    "def handle_folder(folder_path):\n",
    "    \"\"\"\n",
    "    This function creates files, checks file count,\n",
    "    deletes half of the files randomly, and prints the results.\n",
    "\n",
    "    :param folder_path: The full path of the folder to operate on\n",
    "    :type folder_path: str\n",
    "\n",
    "    :return: The number of remaining files after deletion\n",
    "    :rtype: int\n",
    "    \"\"\"\n",
    "\n",
    "    # Ensure the folder exists\n",
    "    os.makedirs(folder_path, exist_ok=True)\n",
    "\n",
    "    # Step 1: Create files inside the folder\n",
    "    for i in range(10):\n",
    "        with open(os.path.join(folder_path, f\"file_{i}.txt\"), 'w') as f:\n",
    "            f.write(f\"This is file number {i}\")\n",
    "\n",
    "    # Step 2: List all files\n",
    "    files = [f for f in os.listdir(folder_path) if os.path.isfile(os.path.join(folder_path, f))]\n",
    "    print(f\"Number of files before deletion: {len(files)}\")\n",
    "\n",
    "    # Step 3: Delete random half\n",
    "    files_to_delete = random.sample(files, len(files) // 2)\n",
    "    for file in files_to_delete:\n",
    "        os.remove(os.path.join(folder_path, file))\n",
    "\n",
    "    # Step 4: List remaining files\n",
    "    remaining_files = [f for f in os.listdir(folder_path) if os.path.isfile(os.path.join(folder_path, f))]\n",
    "    print(f\"Number of files after deletion: {len(remaining_files)}\")\n",
    "\n",
    "    return len(remaining_files)\n",
    "\n",
    "# Example usage\n",
    "folder = r\"c:\\Users\\Sama Essam\\Desktop\\Test\"\n",
    "handle_folder(folder)"
   ]
  }
 ],
 "metadata": {
  "kernelspec": {
   "display_name": ".env",
   "language": "python",
   "name": "python3"
  },
  "language_info": {
   "codemirror_mode": {
    "name": "ipython",
    "version": 3
   },
   "file_extension": ".py",
   "mimetype": "text/x-python",
   "name": "python",
   "nbconvert_exporter": "python",
   "pygments_lexer": "ipython3",
   "version": "3.12.9"
  }
 },
 "nbformat": 4,
 "nbformat_minor": 5
}

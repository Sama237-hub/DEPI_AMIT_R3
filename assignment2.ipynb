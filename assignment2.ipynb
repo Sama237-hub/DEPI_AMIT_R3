{
 "cells": [
  {
   "cell_type": "code",
   "execution_count": 2,
   "id": "b6b37781",
   "metadata": {},
   "outputs": [
    {
     "name": "stdout",
     "output_type": "stream",
     "text": [
      "Welcome to the Simple Calculator!\n",
      "Select an operation:\n",
      "1. Addition (+)\n",
      "2. Subtraction (-)\n",
      "3. Multiplication (*)\n",
      "4. Division (/)\n",
      "5.0 * 5.0 = 25.0\n",
      "Welcome to the Simple Calculator!\n",
      "Select an operation:\n",
      "1. Addition (+)\n",
      "2. Subtraction (-)\n",
      "3. Multiplication (*)\n",
      "4. Division (/)\n",
      "Exiting the calculator. Goodbye!\n"
     ]
    }
   ],
   "source": [
    "# Simple Calculator Program with Loop and Input Validation\n",
    "\n",
    "while True:\n",
    "    # Display the main menu\n",
    "    print(\"Welcome to the Simple Calculator!\")\n",
    "    print(\"Select an operation:\")\n",
    "    print(\"1. Addition (+)\")\n",
    "    print(\"2. Subtraction (-)\")\n",
    "    print(\"3. Multiplication (*)\")\n",
    "    print(\"4. Division (/)\")\n",
    "    \n",
    "    # Ask the user to choose an operation or exit\n",
    "    choice = input(\"Enter your choice (1/2/3/4) or 'exit' to quit: \").strip()\n",
    "    \n",
    "    # Exit the program if user types 'exit'\n",
    "    if choice.lower() == 'exit':\n",
    "        print(\"Exiting the calculator. Goodbye!\")\n",
    "        break\n",
    "    \n",
    "    # Validate the choice\n",
    "    if choice not in ['1', '2', '3', '4']:\n",
    "        print(\"Invalid choice. Please enter 1, 2, 3, 4, or 'exit'.\")\n",
    "        continue\n",
    "\n",
    "    # Input the first number with validation\n",
    "    try:\n",
    "        num1 = float(input(\"Enter first number: \"))\n",
    "    except ValueError:\n",
    "        print(\"Invalid input. Please enter a numeric value.\")\n",
    "        continue\n",
    "\n",
    "    # Input the second number with validation\n",
    "    try:\n",
    "        num2 = float(input(\"Enter second number: \"))\n",
    "    except ValueError:\n",
    "        print(\"Invalid input. Please enter a numeric value.\")\n",
    "        continue\n",
    "\n",
    "    # Perform the selected operation and print the result\n",
    "    if choice == '1':\n",
    "        result = num1 + num2\n",
    "        print(f\"{num1} + {num2} = {result}\")\n",
    "    elif choice == '2':\n",
    "        result = num1 - num2\n",
    "        print(f\"{num1} - {num2} = {result}\")\n",
    "    elif choice == '3':\n",
    "        result = num1 * num2\n",
    "        print(f\"{num1} * {num2} = {result}\")\n",
    "    elif choice == '4':\n",
    "        if num2 == 0:\n",
    "            print(\"Error: Cannot divide by zero.\")\n",
    "            continue\n",
    "        result = num1 / num2\n",
    "        print(f\"{num1} / {num2} = {result}\")"
   ]
  }
 ],
 "metadata": {
  "kernelspec": {
   "display_name": ".env",
   "language": "python",
   "name": "python3"
  },
  "language_info": {
   "codemirror_mode": {
    "name": "ipython",
    "version": 3
   },
   "file_extension": ".py",
   "mimetype": "text/x-python",
   "name": "python",
   "nbconvert_exporter": "python",
   "pygments_lexer": "ipython3",
   "version": "3.12.9"
  }
 },
 "nbformat": 4,
 "nbformat_minor": 5
}

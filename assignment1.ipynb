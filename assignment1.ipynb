{
 "cells": [
  {
   "cell_type": "code",
   "execution_count": 14,
   "id": "2653b66b",
   "metadata": {},
   "outputs": [
    {
     "name": "stdout",
     "output_type": "stream",
     "text": [
      "mocleW EPGTQ!\n",
      "['mocleW', 'EPGTQ!']\n",
      "Welcom\n",
      "Decoded message: Welcom PGTQ!\n"
     ]
    }
   ],
   "source": [
    "# الرسالة الأصلية\n",
    "encoded_message = \"###!!@mocleW EPGTQ!!!6789\"\n",
    "\n",
    "# بنشيل الرموز من البداية والنهاية\n",
    "core_message = encoded_message[6:-6]  # النتيجة: \"mocleW EPGTQ\"\n",
    "print(core_message)\n",
    "# بنقسم الرسالة إلى كلمتين\n",
    "words = core_message.split()\n",
    "print(words)  # [\"mocleW\", \"EPGTQ\"]\n",
    "first_word = words[0][::-1]# عكس الكلمة الأولى: \"Welcome\"\n",
    "print(first_word)\n",
    "second_word = words[1].replace(\"E\", \"\")\n",
    "#   الكلمة التانية زي ما هي بس هنحذف ال حرف E علشان يطابق الرسالة النهائية\n",
    "\n",
    "# الرسالة النهائية\n",
    "final_message = first_word + \" \" + second_word\n",
    "print(\"Decoded message:\", final_message)"
   ]
  }
 ],
 "metadata": {
  "kernelspec": {
   "display_name": ".env",
   "language": "python",
   "name": "python3"
  },
  "language_info": {
   "codemirror_mode": {
    "name": "ipython",
    "version": 3
   },
   "file_extension": ".py",
   "mimetype": "text/x-python",
   "name": "python",
   "nbconvert_exporter": "python",
   "pygments_lexer": "ipython3",
   "version": "3.12.9"
  }
 },
 "nbformat": 4,
 "nbformat_minor": 5
}
